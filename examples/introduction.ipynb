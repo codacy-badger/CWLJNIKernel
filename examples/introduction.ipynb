{
 "cells": [
  {
   "cell_type": "markdown",
   "metadata": {},
   "source": [
    "# Common Workflow Language - Jupyter Notebook Kernel"
   ]
  },
  {
   "cell_type": "markdown",
   "metadata": {},
   "source": [
    "This is an implementation of Jupyter Notebook Kernel which enable to execute Common Workflow Language. In these examples, we show to execute the examples from [Common Workflow Language User Guide](https://www.commonwl.org/user_guide/) by using CWLJNKernel. \n",
    "\n",
    "## Installation\n",
    "\n",
    "To install CWLJNKernel run \n",
    "```bash\n",
    "$ pip install requirements.txt\n",
    "$ python setup.py install\n",
    "```"
   ]
  },
  {
   "cell_type": "markdown",
   "metadata": {},
   "source": [
    "## [First Example](https://www.commonwl.org/user_guide/02-1st-example/index.html)\n",
    "\n",
    "The first example is a simple hello world workflow. To execute it first we have to send the input description."
   ]
  },
  {
   "cell_type": "code",
   "execution_count": 1,
   "metadata": {},
   "outputs": [
    {
     "name": "stdout",
     "output_type": "stream",
     "text": [
      "Add data in memory"
     ]
    }
   ],
   "source": [
    "message: Hello world!"
   ]
  },
  {
   "cell_type": "markdown",
   "metadata": {},
   "source": [
    "When we send the input description the kernel stores them in his memory and waits to receive the worflow. When he receives the workflow the kernel executes it. "
   ]
  },
  {
   "cell_type": "code",
   "execution_count": 2,
   "metadata": {},
   "outputs": [
    {
     "name": "stdout",
     "output_type": "stream",
     "text": [
      "{}\n"
     ]
    },
    {
     "name": "stderr",
     "output_type": "stream",
     "text": [
      "\u001b[1;30mINFO\u001b[0m /Users/dks/Workspaces/CWLKernel/cwlkernel/__main__.py 2.0.20200126090152\n",
      "\u001b[1;30mINFO\u001b[0m Resolved '/private/tmp/CWLKERNEL_DATA/runtime_data/da6812fa-1dbf-42c3-adb0-b1ea318f8c03.cwl' to 'file:///private/tmp/CWLKERNEL_DATA/runtime_data/da6812fa-1dbf-42c3-adb0-b1ea318f8c03.cwl'\n",
      "\u001b[1;30mINFO\u001b[0m [job da6812fa-1dbf-42c3-adb0-b1ea318f8c03.cwl] /private/tmp/docker_tmp4ayswb7d$ echo \\\n",
      "    'Hello world!'\n",
      "\u001b[1;30mINFO\u001b[0m [job da6812fa-1dbf-42c3-adb0-b1ea318f8c03.cwl] completed success\n",
      "\u001b[1;30mINFO\u001b[0m real executor out:\t{}\n",
      "\u001b[1;30mINFO\u001b[0m Final process status is success\n"
     ]
    }
   ],
   "source": [
    "#!/usr/bin/env cwl-runner\n",
    "\n",
    "cwlVersion: v1.0\n",
    "class: CommandLineTool\n",
    "baseCommand: echo\n",
    "inputs:\n",
    "  message:\n",
    "    type: string\n",
    "    inputBinding:\n",
    "      position: 1\n",
    "outputs: []"
   ]
  }
 ],
 "metadata": {
  "kernelspec": {
   "display_name": "Common Workflow Languages",
   "language": "cwl",
   "name": "cwlkernel"
  },
  "language_info": {
   "file_extension": ".cwl",
   "mimetype": "text/x-cwl",
   "name": "yaml"
  }
 },
 "nbformat": 4,
 "nbformat_minor": 4
}
