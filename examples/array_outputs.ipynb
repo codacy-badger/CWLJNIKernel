{
 "cells": [
  {
   "cell_type": "markdown",
   "metadata": {},
   "source": [
    "# Common Workflow Language - Jupyter Notebook Kernel"
   ]
  },
  {
   "cell_type": "markdown",
   "metadata": {},
   "source": [
    "## [Array Outputs](https://www.commonwl.org/user_guide/10-array-outputs/index.html)\n",
    "\n",
    "Not supported yet"
   ]
  },
  {
   "cell_type": "code",
   "execution_count": 1,
   "metadata": {},
   "outputs": [
    {
     "name": "stdout",
     "output_type": "stream",
     "text": [
      "Add data in memory"
     ]
    }
   ],
   "source": [
    "touchfiles:\n",
    "  - foo.txt\n",
    "  - bar.dat\n",
    "  - baz.txt"
   ]
  },
  {
   "cell_type": "code",
   "execution_count": null,
   "metadata": {},
   "outputs": [],
   "source": [
    "#!/usr/bin/env cwl-runner\n",
    "\n",
    "cwlVersion: v1.0\n",
    "class: CommandLineTool\n",
    "baseCommand: touch\n",
    "inputs:\n",
    "  touchfiles:\n",
    "    type:\n",
    "      type: array\n",
    "      items: string\n",
    "    inputBinding:\n",
    "      position: 1\n",
    "outputs:\n",
    "  output:\n",
    "    type:\n",
    "      type: array\n",
    "      items: File\n",
    "    outputBinding:\n",
    "      glob: \"*.txt\""
   ]
  }
 ],
 "metadata": {
  "kernelspec": {
   "display_name": "Common Workflow Languages",
   "language": "cwl",
   "name": "cwlkernel"
  },
  "language_info": {
   "file_extension": ".cwl",
   "mimetype": "text/x-cwl",
   "name": "yaml"
  }
 },
 "nbformat": 4,
 "nbformat_minor": 4
}
