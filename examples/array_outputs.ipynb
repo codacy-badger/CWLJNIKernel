{
 "cells": [
  {
   "cell_type": "markdown",
   "metadata": {},
   "source": [
    "# Common Workflow Language - Jupyter Notebook Kernel"
   ]
  },
  {
   "cell_type": "markdown",
   "metadata": {},
   "source": [
    "## [Array Outputs](https://www.commonwl.org/user_guide/10-array-outputs/index.html)"
   ]
  },
  {
   "cell_type": "code",
   "execution_count": 1,
   "metadata": {},
   "outputs": [
    {
     "name": "stdout",
     "output_type": "stream",
     "text": [
      "Add data in memory"
     ]
    }
   ],
   "source": [
    "touchfiles:\n",
    "  - foo.txt\n",
    "  - bar.dat\n",
    "  - baz.txt"
   ]
  },
  {
   "cell_type": "code",
   "execution_count": 2,
   "metadata": {},
   "outputs": [
    {
     "data": {
      "application/json": {
       "output": [
        {
         "basename": "baz.txt",
         "checksum": "sha1$da39a3ee5e6b4b0d3255bfef95601890afd80709",
         "class": "File",
         "http://commonwl.org/cwltool#generation": 0,
         "id": "output_1",
         "location": "file:///private/tmp/CWLKERNEL_DATA/runtime_data/baz.txt",
         "nameext": ".txt",
         "nameroot": "baz",
         "size": 0
        },
        {
         "basename": "foo.txt",
         "checksum": "sha1$da39a3ee5e6b4b0d3255bfef95601890afd80709",
         "class": "File",
         "http://commonwl.org/cwltool#generation": 0,
         "id": "output_2",
         "location": "file:///private/tmp/CWLKERNEL_DATA/runtime_data/foo.txt",
         "nameext": ".txt",
         "nameroot": "foo",
         "size": 0
        }
       ]
      },
      "text/plain": [
       "<IPython.core.display.JSON object>"
      ]
     },
     "metadata": {
      "application/json": {
       "expanded": false,
       "root": "root"
      }
     },
     "output_type": "display_data"
    }
   ],
   "source": [
    "#!/usr/bin/env cwl-runner\n",
    "\n",
    "cwlVersion: v1.0\n",
    "class: CommandLineTool\n",
    "baseCommand: touch\n",
    "inputs:\n",
    "  touchfiles:\n",
    "    type:\n",
    "      type: array\n",
    "      items: string\n",
    "    inputBinding:\n",
    "      position: 1\n",
    "outputs:\n",
    "  output:\n",
    "    type:\n",
    "      type: array\n",
    "      items: File\n",
    "    outputBinding:\n",
    "      glob: \"*.txt\""
   ]
  },
  {
   "cell_type": "code",
   "execution_count": 3,
   "metadata": {},
   "outputs": [
    {
     "data": {
      "text/html": [
       "<ul>\n",
       "\t<li><a href=\"file:///private/tmp/CWLKERNEL_DATA/results/d79b3512-f8b5-4f59-b3c0-40834c9dc58a/baz.txt\" target=\"_empty\">/private/tmp/CWLKERNEL_DATA/results/d79b3512-f8b5-4f59-b3c0-40834c9dc58a/baz.txt</a></li>\n",
       "\t<li><a href=\"file:///private/tmp/CWLKERNEL_DATA/results/d79b3512-f8b5-4f59-b3c0-40834c9dc58a/foo.txt\" target=\"_empty\">/private/tmp/CWLKERNEL_DATA/results/d79b3512-f8b5-4f59-b3c0-40834c9dc58a/foo.txt</a></li>\n",
       "</ul>"
      ]
     },
     "metadata": {
      "application/json": {
       "expanded": false,
       "root": "root"
      }
     },
     "output_type": "display_data"
    }
   ],
   "source": [
    "% data"
   ]
  }
 ],
 "metadata": {
  "kernelspec": {
   "display_name": "Common Workflow Languages",
   "language": "cwl",
   "name": "cwlkernel"
  },
  "language_info": {
   "file_extension": ".cwl",
   "mimetype": "text/x-cwl",
   "name": "yaml"
  }
 },
 "nbformat": 4,
 "nbformat_minor": 4
}
