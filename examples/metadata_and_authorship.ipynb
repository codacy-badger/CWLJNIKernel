{
 "cells": [
  {
   "cell_type": "markdown",
   "metadata": {},
   "source": [
    "# Common Workflow Language - Jupyter Notebook Kernel"
   ]
  },
  {
   "cell_type": "markdown",
   "metadata": {},
   "source": [
    "## [Metadata and Authorship](https://www.commonwl.org/user_guide/17-metadata/index.html)"
   ]
  },
  {
   "cell_type": "code",
   "execution_count": 2,
   "metadata": {},
   "outputs": [
    {
     "name": "stdout",
     "output_type": "stream",
     "text": [
      "Add data in memory"
     ]
    }
   ],
   "source": [
    "aligned_sequences:\n",
    "    class: File\n",
    "    format: http://edamontology.org/format_2572\n",
    "    location: file-formats.bam"
   ]
  },
  {
   "cell_type": "code",
   "execution_count": 3,
   "metadata": {},
   "outputs": [
    {
     "data": {
      "application/json": {
       "report": {
        "basename": "output.txt",
        "checksum": "sha1$6b7e0383dc4cf6564e8d93773ee6b0e4573f27cd",
        "class": "File",
        "format": "http://edamontology.org/format_1964",
        "http://commonwl.org/cwltool#generation": 0,
        "id": "report",
        "location": "file:///private/tmp/CWLKERNEL_DATA/runtime_data/output.txt",
        "nameext": ".txt",
        "nameroot": "output",
        "size": 135
       }
      },
      "text/plain": [
       "<IPython.core.display.JSON object>"
      ]
     },
     "metadata": {
      "application/json": {
       "expanded": false,
       "root": "root"
      }
     },
     "output_type": "display_data"
    }
   ],
   "source": [
    "#!/usr/bin/env cwl-runner\n",
    "cwlVersion: v1.0\n",
    "class: CommandLineTool\n",
    "\n",
    "label: An example tool demonstrating metadata.\n",
    "doc: Note that this is an example and the metadata is not necessarily consistent.\n",
    "\n",
    "hints:\n",
    "  ResourceRequirement:\n",
    "    coresMin: 4\n",
    "\n",
    "inputs:\n",
    "  aligned_sequences:\n",
    "    type: File\n",
    "    label: Aligned sequences in BAM format\n",
    "    format: edam:format_2572\n",
    "    inputBinding:\n",
    "      position: 1\n",
    "\n",
    "baseCommand: [ wc, -l ]\n",
    "\n",
    "stdout: output.txt\n",
    "\n",
    "outputs:\n",
    "  report:\n",
    "    type: stdout\n",
    "    format: edam:format_1964\n",
    "    label: A text file that contains a line count\n",
    "\n",
    "s:author:\n",
    "  - class: s:Person\n",
    "    s:identifier: https://orcid.org/0000-0002-6130-1021\n",
    "    s:email: mailto:dyuen@oicr.on.ca\n",
    "    s:name: Denis Yuen\n",
    "\n",
    "s:contributor:\n",
    "  - class: s:Person\n",
    "    s:identifier: http://orcid.org/0000-0002-7681-6415\n",
    "    s:email: mailto:briandoconnor@gmail.com\n",
    "    s:name: Brian O'Connor\n",
    "\n",
    "s:citation: https://dx.doi.org/10.6084/m9.figshare.3115156.v2\n",
    "s:codeRepository: https://github.com/common-workflow-language/common-workflow-language\n",
    "s:dateCreated: \"2016-12-13\"\n",
    "s:license: https://spdx.org/licenses/Apache-2.0 \n",
    "\n",
    "s:keywords: edam:topic_0091 , edam:topic_0622\n",
    "s:programmingLanguage: C\n",
    "\n",
    "$namespaces:\n",
    " s: https://schema.org/\n",
    " edam: http://edamontology.org/\n",
    "\n",
    "$schemas:\n",
    " - https://schema.org/docs/schema_org_rdfa.html\n",
    " - http://edamontology.org/EDAM_1.18.owl"
   ]
  },
  {
   "cell_type": "code",
   "execution_count": 4,
   "metadata": {},
   "outputs": [
    {
     "name": "stdout",
     "output_type": "stream",
     "text": [
      "   13698 /private/var/folders/k8/800hfw_n2md_2zb44lhhtqqr0000gn/T/tmpf00p5bm6/stgc46b115d-50ca-4f13-a04c-9432393ccd34/file-formats.bam\n"
     ]
    }
   ],
   "source": [
    "% display_data report"
   ]
  }
 ],
 "metadata": {
  "kernelspec": {
   "display_name": "Common Workflow Languages",
   "language": "cwl",
   "name": "cwlkernel"
  },
  "language_info": {
   "file_extension": ".cwl",
   "mimetype": "text/x-cwl",
   "name": "yaml"
  }
 },
 "nbformat": 4,
 "nbformat_minor": 4
}
