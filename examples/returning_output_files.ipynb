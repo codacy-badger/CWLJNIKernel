{
 "cells": [
  {
   "cell_type": "markdown",
   "metadata": {},
   "source": [
    "# Common Workflow Language - Jupyter Notebook Kernel"
   ]
  },
  {
   "cell_type": "markdown",
   "metadata": {},
   "source": [
    "## [Returning Output Files](https://www.commonwl.org/user_guide/04-output/index.html)"
   ]
  },
  {
   "cell_type": "markdown",
   "metadata": {},
   "source": [
    "Like the previous example first we have to send the input description file. Because again we have a file in our input first we need to create it otherwise the server returns an error.\n",
    "To create the tar file run the following commands on the server:\n",
    "```bash\n",
    "cd /tmp/CWLKERNEL_DATA/runtime_data/\n",
    "touch hello.txt\n",
    "tar -cvf hello.tar hello.txt\n",
    "```"
   ]
  },
  {
   "cell_type": "code",
   "execution_count": 2,
   "metadata": {},
   "outputs": [
    {
     "name": "stdout",
     "output_type": "stream",
     "text": [
      "Add data in memory"
     ]
    }
   ],
   "source": [
    "tarfile:\n",
    "  class: File\n",
    "  path: hello.tar"
   ]
  },
  {
   "cell_type": "code",
   "execution_count": 3,
   "metadata": {},
   "outputs": [
    {
     "name": "stdout",
     "output_type": "stream",
     "text": [
      "{\n",
      "    \"example_out\": {\n",
      "        \"location\": \"file:///private/tmp/CWLKERNEL_DATA/runtime_data/hello.txt\",\n",
      "        \"basename\": \"hello.txt\",\n",
      "        \"class\": \"File\",\n",
      "        \"checksum\": \"sha1$da39a3ee5e6b4b0d3255bfef95601890afd80709\",\n",
      "        \"size\": 0,\n",
      "        \"path\": \"/private/tmp/CWLKERNEL_DATA/runtime_data/hello.txt\"\n",
      "    }\n",
      "}\n"
     ]
    },
    {
     "name": "stderr",
     "output_type": "stream",
     "text": [
      "\u001b[1;30mINFO\u001b[0m /Users/dks/Workspaces/CWLKernel/cwlkernel/__main__.py 2.0.20200126090152\n",
      "\u001b[1;30mINFO\u001b[0m Resolved '/private/tmp/CWLKERNEL_DATA/runtime_data/b56fd8ba-0de0-4ef8-94a7-33a4a88a3031.cwl' to 'file:///private/tmp/CWLKERNEL_DATA/runtime_data/b56fd8ba-0de0-4ef8-94a7-33a4a88a3031.cwl'\n",
      "\u001b[1;30mINFO\u001b[0m [job b56fd8ba-0de0-4ef8-94a7-33a4a88a3031.cwl] /private/tmp/docker_tmpk1j21dfg$ tar \\\n",
      "    --extract \\\n",
      "    --file \\\n",
      "    /private/var/folders/k8/800hfw_n2md_2zb44lhhtqqr0000gn/T/tmph3yfp2oq/stg2c91392c-55f5-4cca-9141-361eeab8f3f8/hello.tar\n",
      "\u001b[1;30mINFO\u001b[0m [job b56fd8ba-0de0-4ef8-94a7-33a4a88a3031.cwl] completed success\n",
      "\u001b[1;30mINFO\u001b[0m real executor out:\t{'example_out': {'location': 'file:///private/tmp/CWLKERNEL_DATA/runtime_data/hello.txt', 'basename': 'hello.txt', 'nameroot': 'hello', 'nameext': '.txt', 'class': 'File', 'checksum': 'sha1$da39a3ee5e6b4b0d3255bfef95601890afd80709', 'size': 0, 'http://commonwl.org/cwltool#generation': 0}}\n",
      "\u001b[1;30mINFO\u001b[0m Final process status is success\n"
     ]
    }
   ],
   "source": [
    "#!/usr/bin/env cwl-runner\n",
    "\n",
    "cwlVersion: v1.0\n",
    "class: CommandLineTool\n",
    "baseCommand: [tar, --extract]\n",
    "inputs:\n",
    "  tarfile:\n",
    "    type: File\n",
    "    inputBinding:\n",
    "      prefix: --file\n",
    "outputs:\n",
    "  example_out:\n",
    "    type: File\n",
    "    outputBinding:\n",
    "      glob: hello.txt"
   ]
  },
  {
   "cell_type": "markdown",
   "metadata": {},
   "source": [
    "Now we can see that server gives us the location of the created output file. "
   ]
  }
 ],
 "metadata": {
  "kernelspec": {
   "display_name": "Common Workflow Languages",
   "language": "cwl",
   "name": "cwlkernel"
  },
  "language_info": {
   "file_extension": ".cwl",
   "mimetype": "text/x-cwl",
   "name": "yaml"
  }
 },
 "nbformat": 4,
 "nbformat_minor": 4
}
