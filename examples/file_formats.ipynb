{
 "cells": [
  {
   "cell_type": "code",
   "execution_count": 6,
   "metadata": {},
   "outputs": [
    {
     "name": "stdout",
     "output_type": "stream",
     "text": [
      "Add data in memory"
     ]
    }
   ],
   "source": [
    "aligned_sequences:\n",
    "    class: File\n",
    "    format: http://edamontology.org/format_2572\n",
    "    location: file-formats.bam"
   ]
  },
  {
   "cell_type": "code",
   "execution_count": 7,
   "metadata": {},
   "outputs": [
    {
     "data": {
      "application/json": {
       "report": {
        "basename": "output.txt",
        "checksum": "sha1$595d8d5f171b72244a202ae460d681fe771f733a",
        "class": "File",
        "format": "http://edamontology.org/format_1964",
        "http://commonwl.org/cwltool#generation": 0,
        "id": "report",
        "location": "file:///private/tmp/CWLKERNEL_DATA/runtime_data/output.txt",
        "nameext": ".txt",
        "nameroot": "output",
        "size": 135
       }
      },
      "text/plain": [
       "<IPython.core.display.JSON object>"
      ]
     },
     "metadata": {
      "application/json": {
       "expanded": false,
       "root": "root"
      }
     },
     "output_type": "display_data"
    }
   ],
   "source": [
    "#!/usr/bin/env cwl-runner\n",
    "cwlVersion: v1.0\n",
    "class: CommandLineTool\n",
    "\n",
    "label: An example tool demonstrating metadata.\n",
    "\n",
    "inputs:\n",
    "  aligned_sequences:\n",
    "    type: File\n",
    "    label: Aligned sequences in BAM format\n",
    "    format: edam:format_2572\n",
    "    inputBinding:\n",
    "      position: 1\n",
    "\n",
    "baseCommand: [ wc, -l ]\n",
    "\n",
    "stdout: output.txt\n",
    "\n",
    "outputs:\n",
    "  report:\n",
    "    type: stdout\n",
    "    format: edam:format_1964\n",
    "    label: A text file that contains a line count\n",
    "\n",
    "$namespaces:\n",
    "  edam: http://edamontology.org/\n",
    "$schemas:\n",
    "  - http://edamontology.org/EDAM_1.18.owl\n"
   ]
  }
 ],
 "metadata": {
  "kernelspec": {
   "display_name": "Common Workflow Languages",
   "language": "cwl",
   "name": "cwlkernel"
  },
  "language_info": {
   "file_extension": ".cwl",
   "mimetype": "text/x-cwl",
   "name": "yaml"
  }
 },
 "nbformat": 4,
 "nbformat_minor": 4
}
