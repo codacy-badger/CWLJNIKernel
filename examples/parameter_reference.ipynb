{
 "cells": [
  {
   "cell_type": "markdown",
   "metadata": {},
   "source": [
    "# Common Workflow Language - Jupyter Notebook Kernel"
   ]
  },
  {
   "cell_type": "markdown",
   "metadata": {},
   "source": [
    "## [Parameter References](https://www.commonwl.org/user_guide/06-params/index.html)\n",
    "\n",
    "For parameter reference nothing change. We execute the workflow the same way."
   ]
  },
  {
   "cell_type": "code",
   "execution_count": 2,
   "metadata": {},
   "outputs": [
    {
     "name": "stderr",
     "output_type": "stream",
     "text": [
      "FileNotFoundError: /private/tmp/CWLKERNEL_DATA/runtime_data/hello.tar"
     ]
    }
   ],
   "source": [
    "tarfile:\n",
    "  class: File\n",
    "  location: hello.tar\n",
    "extractfile: goodbye.txt"
   ]
  },
  {
   "cell_type": "code",
   "execution_count": 3,
   "metadata": {},
   "outputs": [
    {
     "data": {
      "application/json": {},
      "text/plain": [
       "<IPython.core.display.JSON object>"
      ]
     },
     "metadata": {
      "application/json": {
       "expanded": false,
       "root": "root"
      }
     },
     "output_type": "display_data"
    },
    {
     "name": "stderr",
     "output_type": "stream",
     "text": [
      "Invalid job input record:\n",
      "3cbdbcd1-8560-4083-a3bc-bf089a4d5ed0.cwl:11:3: Missing required input parameter 'extractfile'WorkflowException: Invalid job input record:\n",
      "3cbdbcd1-8560-4083-a3bc-bf089a4d5ed0.cwl:11:3: Missing required input parameter 'extractfile'"
     ]
    }
   ],
   "source": [
    "#!/usr/bin/env cwl-runner\n",
    "\n",
    "cwlVersion: v1.0\n",
    "class: CommandLineTool\n",
    "baseCommand: [tar, --extract]\n",
    "inputs:\n",
    "  tarfile:\n",
    "    type: File\n",
    "    inputBinding:\n",
    "      prefix: --file\n",
    "  extractfile:\n",
    "    type: string\n",
    "    inputBinding:\n",
    "      position: 1\n",
    "outputs:\n",
    "  extracted_file:\n",
    "    type: File\n",
    "    outputBinding:\n",
    "      glob: $(inputs.extractfile)"
   ]
  }
 ],
 "metadata": {
  "kernelspec": {
   "display_name": "Common Workflow Languages",
   "language": "cwl",
   "name": "cwlkernel"
  },
  "language_info": {
   "file_extension": ".cwl",
   "mimetype": "text/x-cwl",
   "name": "yaml"
  }
 },
 "nbformat": 4,
 "nbformat_minor": 4
}
