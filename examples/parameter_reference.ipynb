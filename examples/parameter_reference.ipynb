{
 "cells": [
  {
   "cell_type": "markdown",
   "metadata": {},
   "source": [
    "# Common Workflow Language - Jupyter Notebook Kernel"
   ]
  },
  {
   "cell_type": "markdown",
   "metadata": {},
   "source": [
    "## [Parameter References](https://www.commonwl.org/user_guide/06-params/index.html)\n",
    "\n",
    "For parameter reference nothing change. We execute the workflow the same way."
   ]
  },
  {
   "cell_type": "code",
   "execution_count": 4,
   "metadata": {},
   "outputs": [
    {
     "name": "stdout",
     "output_type": "stream",
     "text": [
      "Add data in memory"
     ]
    }
   ],
   "source": [
    "tarfile:\n",
    "  class: File\n",
    "  path: hello.tar\n",
    "extractfile: goodbye.txt"
   ]
  },
  {
   "cell_type": "code",
   "execution_count": 5,
   "metadata": {},
   "outputs": [
    {
     "name": "stdout",
     "output_type": "stream",
     "text": [
      "{\n",
      "    \"extracted_file\": {\n",
      "        \"location\": \"file:///private/tmp/CWLKERNEL_DATA/runtime_data/goodbye.txt\",\n",
      "        \"basename\": \"goodbye.txt\",\n",
      "        \"class\": \"File\",\n",
      "        \"checksum\": \"sha1$da39a3ee5e6b4b0d3255bfef95601890afd80709\",\n",
      "        \"size\": 0,\n",
      "        \"path\": \"/private/tmp/CWLKERNEL_DATA/runtime_data/goodbye.txt\"\n",
      "    }\n",
      "}\n"
     ]
    },
    {
     "name": "stderr",
     "output_type": "stream",
     "text": [
      "\u001b[1;30mINFO\u001b[0m /Users/dks/Workspaces/CWLKernel/cwlkernel/__main__.py 2.0.20200126090152\n",
      "\u001b[1;30mINFO\u001b[0m Resolved '/private/tmp/CWLKERNEL_DATA/runtime_data/9216d25d-31bb-45b4-a93a-c09ed094270c.cwl' to 'file:///private/tmp/CWLKERNEL_DATA/runtime_data/9216d25d-31bb-45b4-a93a-c09ed094270c.cwl'\n",
      "\u001b[1;30mINFO\u001b[0m [job 9216d25d-31bb-45b4-a93a-c09ed094270c.cwl] /private/tmp/docker_tmpgzhhzjy3$ tar \\\n",
      "    --extract \\\n",
      "    --file \\\n",
      "    /private/var/folders/k8/800hfw_n2md_2zb44lhhtqqr0000gn/T/tmpgb6zqnk1/stgcdb4f37e-26af-4fd3-a0b0-5fde743001e2/hello.tar \\\n",
      "    goodbye.txt\n",
      "\u001b[1;30mINFO\u001b[0m [job 9216d25d-31bb-45b4-a93a-c09ed094270c.cwl] completed success\n",
      "\u001b[1;30mINFO\u001b[0m real executor out:\t{'extracted_file': {'location': 'file:///private/tmp/CWLKERNEL_DATA/runtime_data/goodbye.txt', 'basename': 'goodbye.txt', 'nameroot': 'goodbye', 'nameext': '.txt', 'class': 'File', 'checksum': 'sha1$da39a3ee5e6b4b0d3255bfef95601890afd80709', 'size': 0, 'http://commonwl.org/cwltool#generation': 0}}\n",
      "\u001b[1;30mINFO\u001b[0m Final process status is success\n"
     ]
    }
   ],
   "source": [
    "#!/usr/bin/env cwl-runner\n",
    "\n",
    "cwlVersion: v1.0\n",
    "class: CommandLineTool\n",
    "baseCommand: [tar, --extract]\n",
    "inputs:\n",
    "  tarfile:\n",
    "    type: File\n",
    "    inputBinding:\n",
    "      prefix: --file\n",
    "  extractfile:\n",
    "    type: string\n",
    "    inputBinding:\n",
    "      position: 1\n",
    "outputs:\n",
    "  extracted_file:\n",
    "    type: File\n",
    "    outputBinding:\n",
    "      glob: $(inputs.extractfile)"
   ]
  }
 ],
 "metadata": {
  "kernelspec": {
   "display_name": "Common Workflow Languages",
   "language": "cwl",
   "name": "cwlkernel"
  },
  "language_info": {
   "file_extension": ".cwl",
   "mimetype": "text/x-cwl",
   "name": "yaml"
  }
 },
 "nbformat": 4,
 "nbformat_minor": 4
}
