{
 "cells": [
  {
   "cell_type": "markdown",
   "metadata": {},
   "source": [
    "# Common Workflow Language - Jupyter Notebook Kernel"
   ]
  },
  {
   "cell_type": "markdown",
   "metadata": {},
   "source": [
    "## [Environment Variables](https://www.commonwl.org/user_guide/12-env/index.html)"
   ]
  },
  {
   "cell_type": "code",
   "execution_count": 1,
   "metadata": {},
   "outputs": [
    {
     "name": "stdout",
     "output_type": "stream",
     "text": [
      "Add data in memory"
     ]
    }
   ],
   "source": [
    "message: Hello world!"
   ]
  },
  {
   "cell_type": "code",
   "execution_count": 2,
   "metadata": {},
   "outputs": [
    {
     "data": {
      "application/json": {
       "example_out": {
        "basename": "output.txt",
        "checksum": "sha1$0c25d0e9bcbe74b875a973ae8bc73ab3a17c12f7",
        "class": "File",
        "http://commonwl.org/cwltool#generation": 0,
        "id": "example_out",
        "location": "file:///private/tmp/CWLKERNEL_DATA/runtime_data/output.txt",
        "nameext": ".txt",
        "nameroot": "output",
        "size": 612
       }
      },
      "text/plain": [
       "<IPython.core.display.JSON object>"
      ]
     },
     "metadata": {
      "application/json": {
       "expanded": false,
       "root": "root"
      }
     },
     "output_type": "display_data"
    }
   ],
   "source": [
    "#!/usr/bin/env cwl-runner\n",
    "\n",
    "cwlVersion: v1.0\n",
    "class: CommandLineTool\n",
    "baseCommand: env\n",
    "requirements:\n",
    "  EnvVarRequirement:\n",
    "    envDef:\n",
    "      HELLO: $(inputs.message)\n",
    "inputs:\n",
    "  message: string\n",
    "outputs:\n",
    "  example_out:\n",
    "    type: stdout\n",
    "stdout: output.txt"
   ]
  },
  {
   "cell_type": "code",
   "execution_count": 3,
   "metadata": {},
   "outputs": [
    {
     "name": "stdout",
     "output_type": "stream",
     "text": [
      "HELLO=Hello world!\n",
      "HOME=/private/var/folders/k8/800hfw_n2md_2zb44lhhtqqr0000gn/T/9pwuq59w\n",
      "TMPDIR=/private/var/folders/k8/800hfw_n2md_2zb44lhhtqqr0000gn/T/tmpngnqzknl\n",
      "PATH=/Users/dks/Workspaces/CWLKernel/venv/bin:/Applications/Visual Studio Code.app/Contents/Resources/app/bin:/usr/local/sbin:/opt/apache-maven/bin:/usr/local/opt/llvm/bin/:/usr/local/opt/python/libexec/bin:/usr/local/bin:/usr/bin:/bin:/usr/sbin:/sbin:/Library/TeX/texbin:/opt/X11/bin:/Applications/Visual Studio Code.app/Contents/Resources/app/bin:/usr/local/sbin:/opt/apache-maven/bin:/usr/local/opt/llvm/bin/:/usr/local/opt/python/libexec/bin\n"
     ]
    }
   ],
   "source": [
    "% display_data example_out"
   ]
  }
 ],
 "metadata": {
  "kernelspec": {
   "display_name": "Common Workflow Languages",
   "language": "cwl",
   "name": "cwlkernel"
  },
  "language_info": {
   "file_extension": ".cwl",
   "mimetype": "text/x-cwl",
   "name": "yaml"
  }
 },
 "nbformat": 4,
 "nbformat_minor": 4
}
